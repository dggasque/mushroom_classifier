{
 "cells": [
  {
   "cell_type": "code",
   "execution_count": 1,
   "metadata": {},
   "outputs": [],
   "source": [
    "import pandas as pd\n",
    "\n",
    "df = pd.read_csv('mushrooms_mapped.csv') "
   ]
  },
  {
   "cell_type": "markdown",
   "metadata": {},
   "source": [
    "### Split the data into train, validation and test sets"
   ]
  },
  {
   "cell_type": "code",
   "execution_count": 11,
   "metadata": {},
   "outputs": [],
   "source": [
    "target = 'class'\n",
    "features = ['spore_print_color', 'gill_size', 'gill_attachment', 'population', 'habitat', 'gill_spacing',\n",
    "       'gill_color']"
   ]
  },
  {
   "cell_type": "code",
   "execution_count": 12,
   "metadata": {},
   "outputs": [
    {
     "name": "stdout",
     "output_type": "stream",
     "text": [
      "X_train shape (4569, 7)\n",
      "y_train shape (4569,)\n",
      "X_val shape (1524, 7)\n",
      "y_val shape (1524,)\n",
      "X_test shape (2031, 7)\n",
      "y_test shape (2031,)\n"
     ]
    }
   ],
   "source": [
    "from sklearn.model_selection import train_test_split\n",
    "\n",
    "X_trainval, X_test, y_trainval, y_test = train_test_split(\n",
    "    df[features], df[target], stratify=df[target], random_state=42)\n",
    "\n",
    "X_train, X_val, y_train, y_val = train_test_split(\n",
    "    X_trainval, y_trainval, stratify=y_trainval, random_state=42)\n",
    "\n",
    "print('X_train shape', X_train.shape)\n",
    "print('y_train shape', y_train.shape)\n",
    "print('X_val shape', X_val.shape)\n",
    "print('y_val shape', y_val.shape)\n",
    "print('X_test shape', X_test.shape)\n",
    "print('y_test shape', y_test.shape)"
   ]
  },
  {
   "cell_type": "code",
   "execution_count": 19,
   "metadata": {},
   "outputs": [
    {
     "data": {
      "text/plain": [
       "array([0.99988997, 0.99981104, 0.99995195, 0.99998559, 0.999803  ])"
      ]
     },
     "execution_count": 19,
     "metadata": {},
     "output_type": "execute_result"
    }
   ],
   "source": [
    "import category_encoders as ce\n",
    "from sklearn.model_selection import cross_val_score\n",
    "from sklearn.pipeline import make_pipeline\n",
    "from sklearn.ensemble import RandomForestClassifier\n",
    "\n",
    "pipeline = make_pipeline(\n",
    "    ce.OrdinalEncoder(),  \n",
    "    RandomForestClassifier(n_estimators=300, random_state=42)\n",
    ")\n",
    "\n",
    "cross_val_score(pipeline, X_train, y_train, scoring='roc_auc', cv=5)"
   ]
  },
  {
   "cell_type": "code",
   "execution_count": 20,
   "metadata": {},
   "outputs": [
    {
     "data": {
      "text/plain": [
       "Pipeline(memory=None,\n",
       "         steps=[('ordinalencoder',\n",
       "                 OrdinalEncoder(cols=['spore_print_color', 'gill_size',\n",
       "                                      'gill_attachment', 'population',\n",
       "                                      'habitat', 'gill_spacing', 'gill_color'],\n",
       "                                drop_invariant=False, handle_missing='value',\n",
       "                                handle_unknown='value',\n",
       "                                mapping=[{'col': 'spore_print_color',\n",
       "                                          'data_type': dtype('O'),\n",
       "                                          'mapping': brown        1\n",
       "chocolate    2\n",
       "white        3\n",
       "black        4\n",
       "green        5\n",
       "orange       6\n",
       "purp...\n",
       "                 RandomForestClassifier(bootstrap=True, class_weight=None,\n",
       "                                        criterion='gini', max_depth=None,\n",
       "                                        max_features='auto',\n",
       "                                        max_leaf_nodes=None,\n",
       "                                        min_impurity_decrease=0.0,\n",
       "                                        min_impurity_split=None,\n",
       "                                        min_samples_leaf=1, min_samples_split=2,\n",
       "                                        min_weight_fraction_leaf=0.0,\n",
       "                                        n_estimators=300, n_jobs=None,\n",
       "                                        oob_score=False, random_state=42,\n",
       "                                        verbose=0, warm_start=False))],\n",
       "         verbose=False)"
      ]
     },
     "execution_count": 20,
     "metadata": {},
     "output_type": "execute_result"
    }
   ],
   "source": [
    "pipeline.fit(X_train, y_train)"
   ]
  },
  {
   "cell_type": "code",
   "execution_count": 21,
   "metadata": {},
   "outputs": [],
   "source": [
    "def predict(\n",
    "    spore_print_color, \n",
    "    gill_size, \n",
    "    gill_attachment, \n",
    "    population, \n",
    "    habitat, \n",
    "    gill_spacing,\n",
    "    gill_color\n",
    "):\n",
    "    #make dataframe from inputs\n",
    "    df = pd.DataFrame(\n",
    "        data=[[ spore_print_color, \n",
    "               gill_size, \n",
    "               gill_attachment, \n",
    "               population, \n",
    "               habitat, \n",
    "               gill_spacing,\n",
    "               gill_color]],\n",
    "        columns= ['spore_print_color', \n",
    "                  'gill_size', \n",
    "                  'gill_attachment', \n",
    "                  'population', \n",
    "                  'habitat', \n",
    "                  'gill_spacing',\n",
    "                  'gill_color']\n",
    "    )\n",
    "    \n",
    "    # Get the model's prediction\n",
    "    y_pred = pipeline.predict(df)[0]\n",
    "    \n",
    "    return f'Your mushroom is {y_pred}'"
   ]
  },
  {
   "cell_type": "code",
   "execution_count": 22,
   "metadata": {},
   "outputs": [
    {
     "data": {
      "text/plain": [
       "'Your mushroom is edible'"
      ]
     },
     "execution_count": 22,
     "metadata": {},
     "output_type": "execute_result"
    }
   ],
   "source": [
    "predict('black', 'broad', 'descending', 'abundant', 'grasses', 'crowded', 'brown')"
   ]
  },
  {
   "cell_type": "code",
   "execution_count": 23,
   "metadata": {},
   "outputs": [
    {
     "data": {
      "text/plain": [
       "['pipeline.joblib']"
      ]
     },
     "execution_count": 23,
     "metadata": {},
     "output_type": "execute_result"
    }
   ],
   "source": [
    "from joblib import dump\n",
    "dump(pipeline, 'pipeline.joblib', compress=True)"
   ]
  },
  {
   "cell_type": "code",
   "execution_count": 24,
   "metadata": {},
   "outputs": [
    {
     "name": "stdout",
     "output_type": "stream",
     "text": [
      "joblib==0.13.2\n",
      "scikit-learn==0.21.3\n",
      "category_encoders==2.1.0\n"
     ]
    }
   ],
   "source": [
    "import joblib\n",
    "import sklearn\n",
    "import category_encoders as ce\n",
    "print(f'joblib=={joblib.__version__}')\n",
    "print(f'scikit-learn=={sklearn.__version__}')\n",
    "print(f'category_encoders=={ce.__version__}')"
   ]
  }
 ],
 "metadata": {
  "kernelspec": {
   "display_name": "Python 3",
   "language": "python",
   "name": "python3"
  },
  "language_info": {
   "codemirror_mode": {
    "name": "ipython",
    "version": 3
   },
   "file_extension": ".py",
   "mimetype": "text/x-python",
   "name": "python",
   "nbconvert_exporter": "python",
   "pygments_lexer": "ipython3",
   "version": "3.7.4"
  }
 },
 "nbformat": 4,
 "nbformat_minor": 2
}
